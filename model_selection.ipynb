{
  "nbformat": 4,
  "nbformat_minor": 0,
  "metadata": {
    "colab": {
      "provenance": []
    },
    "kernelspec": {
      "name": "python3",
      "display_name": "Python 3"
    },
    "language_info": {
      "name": "python"
    }
  },
  "cells": [
    {
      "cell_type": "code",
      "source": [
        "# First, import the model script\n",
        "!python3 model_.py\n",
        "\n",
        "# Now, you can use the classes defined in the model.py script\n",
        "from model_ import LogisticRegressionModel, RandomForestModel\n",
        "\n",
        "# Load your dataset (replace with your actual dataset path)\n",
        "data_path = '/path/to/your/dataset.csv'"
      ],
      "metadata": {
        "id": "BTb4KeP8mYaa"
      },
      "execution_count": 9,
      "outputs": []
    },
    {
      "cell_type": "markdown",
      "source": [
        "I have choose a RandomForest Model because of large dataset we will use in the banking for classification."
      ],
      "metadata": {
        "id": "xu6SkJberF-Z"
      }
    },
    {
      "cell_type": "code",
      "source": [],
      "metadata": {
        "id": "pIE27irisPvs"
      },
      "execution_count": null,
      "outputs": []
    }
  ]
}